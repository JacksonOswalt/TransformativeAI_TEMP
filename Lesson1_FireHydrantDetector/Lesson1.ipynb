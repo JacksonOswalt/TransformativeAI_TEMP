{
 "cells": [
  {
   "cell_type": "code",
   "execution_count": null,
   "id": "05291c0f",
   "metadata": {},
   "outputs": [],
   "source": [
    "#Had a bit of a messy setup. Never used jupyter notebook or .ipynb files before so getting the hang of it.\n",
    "\n",
    "!pip install fastai"
   ]
  },
  {
   "cell_type": "code",
   "execution_count": null,
   "id": "40486631",
   "metadata": {},
   "outputs": [],
   "source": [
    "#I'm going to use this model to detect if an image contains a fire hydrant or not.\n",
    "#Choosing images with fire hydrants is a common image captcha, and it's interesting how easily this can be beat today.\n",
    "#Use DuckDuckGo to search for fire hydrant images.\n",
    "\n",
    "from duckduckgo_search import DDGS\n",
    "from fastcore.all import *\n",
    "\n",
    "def search_images(term, max_images=30):\n",
    "    print(f\"Searching for '{term}'\")\n",
    "    with DDGS() as ddgs:\n",
    "        return [r['image'] for r in ddgs.images(keywords=term, max_results=max_images)]\n",
    "    \n",
    "urls = search_images('fire hydrant', max_images=1)\n",
    "urls[0]"
   ]
  },
  {
   "cell_type": "code",
   "execution_count": null,
   "id": "c221e377",
   "metadata": {},
   "outputs": [],
   "source": [
    "#Download the image from the found URL. SSL verification was giving me issues so I disabled it.\n",
    "\n",
    "from fastdownload import download_url\n",
    "import ssl\n",
    "\n",
    "# Disable SSL verification\n",
    "ssl._create_default_https_context = ssl._create_unverified_context\n",
    "\n",
    "dest = 'firehydrant.jpg'\n",
    "download_url(urls[0], dest, show_progress=False)\n",
    "\n",
    "from fastai.vision.all import *\n",
    "im = Image.open(dest)\n",
    "im.to_thumb(256,256)"
   ]
  },
  {
   "cell_type": "code",
   "execution_count": null,
   "id": "bc91e3ba",
   "metadata": {},
   "outputs": [],
   "source": [
    "# Do the same for a reference image. I'll be using forests because they are very unlikely to contain fire hydrants in the background.\n",
    "\n",
    "urls = search_images('forest', max_images=1)\n",
    "\n",
    "if urls:\n",
    "    # Download the image\n",
    "    dest = 'forest.jpg'  # Changed the filename to reflect the content\n",
    "    download_url(urls[0], dest, show_progress=False)\n",
    "\n",
    "    # Open and display the image\n",
    "    im = Image.open(dest)\n",
    "    display(im.to_thumb(256,256))\n",
    "else:\n",
    "    print(\"No images found.\")"
   ]
  },
  {
   "cell_type": "code",
   "execution_count": null,
   "id": "0038ad12",
   "metadata": {},
   "outputs": [],
   "source": [
    "#Create a dataset of both fire hydrants and forests.\n",
    "\n",
    "searches = 'fire hydrant','forest'\n",
    "path = Path('hydrant_or_not')\n",
    "from time import sleep\n",
    "\n",
    "for o in searches:\n",
    "    dest = (path/o)\n",
    "    dest.mkdir(exist_ok=True, parents=True)\n",
    "    download_images(dest, urls=search_images(o))\n",
    "    sleep(10)  # Pause between searches to avoid over-loading server\n",
    "    resize_images(path/o, max_size=400, dest=path/o)"
   ]
  },
  {
   "cell_type": "code",
   "execution_count": null,
   "id": "5fcb3177",
   "metadata": {},
   "outputs": [],
   "source": [
    "#Remove any images that failed to download. Otherwise this will negatively affect our finetune.\n",
    "\n",
    "failed = verify_images(get_image_files(path))\n",
    "failed.map(Path.unlink)\n",
    "len(failed)"
   ]
  },
  {
   "cell_type": "code",
   "execution_count": null,
   "id": "810942ae",
   "metadata": {},
   "outputs": [],
   "source": [
    "#Create a dataloader for our images.\n",
    "\n",
    "dls = DataBlock(\n",
    "    blocks=(ImageBlock, CategoryBlock), \n",
    "    get_items=get_image_files, \n",
    "    splitter=RandomSplitter(valid_pct=0.2, seed=42),\n",
    "    get_y=parent_label,\n",
    "    item_tfms=[Resize(192, method='squish')]\n",
    ").dataloaders(path, bs=32)\n",
    "\n",
    "dls.show_batch(max_n=6)"
   ]
  },
  {
   "cell_type": "code",
   "execution_count": null,
   "id": "1a203f7a",
   "metadata": {},
   "outputs": [],
   "source": [
    "#Fine-tune the pretrained imagenet model.\n",
    "\n",
    "learn = vision_learner(dls, resnet18, metrics=error_rate)\n",
    "learn.fine_tune(3)"
   ]
  },
  {
   "cell_type": "code",
   "execution_count": null,
   "id": "60ff6ed7",
   "metadata": {},
   "outputs": [],
   "source": [
    "#Test the finetune model on our original fire hydrant image.\n",
    "\n",
    "is_firehydrant,_,probs = learn.predict(PILImage.create('firehydrant.jpg'))\n",
    "print(f\"This is a: {is_firehydrant}.\")\n",
    "print(f\"Probability it's a fire hydrant: {probs[0]:.4f}\")"
   ]
  },
  {
   "cell_type": "code",
   "execution_count": null,
   "id": "9dc86df9",
   "metadata": {},
   "outputs": [],
   "source": [
    "#Save the finetuned model to disk (for fun, not necessary).\n",
    "\n",
    "learn.export('firehydrant_model.pkl')"
   ]
  }
 ],
 "metadata": {
  "kernelspec": {
   "display_name": "myenv",
   "language": "python",
   "name": "python3"
  },
  "language_info": {
   "codemirror_mode": {
    "name": "ipython",
    "version": 3
   },
   "file_extension": ".py",
   "mimetype": "text/x-python",
   "name": "python",
   "nbconvert_exporter": "python",
   "pygments_lexer": "ipython3",
   "version": "3.12.3"
  }
 },
 "nbformat": 4,
 "nbformat_minor": 5
}
